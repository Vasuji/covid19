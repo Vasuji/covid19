{
 "cells": [
  {
   "cell_type": "markdown",
   "metadata": {},
   "source": [
    "## Objective: \n",
    "In this notebook we want to provide an intriductory idea to create citation network from research publication in COVID19 corpus. \n",
    "We request to see **I - COVID19-NLP-Data-Parsing** notebook for better understanding this notebook. Here we directly focus to gather Bib-entries for each of the documents and try to provide a demo for network analysis."
   ]
  },
  {
   "cell_type": "markdown",
   "metadata": {},
   "source": [
    "### 1. Getting Data"
   ]
  },
  {
   "cell_type": "code",
   "execution_count": 92,
   "metadata": {
    "_cell_guid": "b1076dfc-b9ad-4769-8c92-a6c4dae69d19",
    "_uuid": "8f2839f25d086af736a60e9eeb907d3b93b6e0e5"
   },
   "outputs": [],
   "source": [
    "# This Python 3 environment comes with many helpful analytics libraries installed\n",
    "# It is defined by the kaggle/python docker image: https://github.com/kaggle/docker-python\n",
    "# For example, here's several helpful packages to load in \n",
    "\n",
    "import numpy as np # linear algebra\n",
    "import pandas as pd # data processing, CSV file I/O (e.g. pd.read_csv)\n",
    "import json\n",
    "\n",
    "# Input data files are available in the \"../input/\" directory.\n",
    "# For example, running this (by clicking run or pressing Shift+Enter) will list all files under the input directory\n",
    "\n",
    "import os\n",
    "\n",
    "datafiles = []\n",
    "for dirname, _, filenames in os.walk('/kaggle/input'):\n",
    "    for filename in filenames:\n",
    "        ifile = os.path.join(dirname, filename)\n",
    "        if ifile.split(\".\")[-1] == \"json\":\n",
    "            datafiles.append(ifile)\n",
    "        #print(ifile)\n",
    "\n",
    "# Any results you write to the current directory are saved as output."
   ]
  },
  {
   "cell_type": "code",
   "execution_count": 93,
   "metadata": {
    "_cell_guid": "79c7e3d0-c299-4dcb-8224-4455121ee9b0",
    "_uuid": "d629ff2d2480ee46fbb7e2d37f6b5fab8052498a"
   },
   "outputs": [
    {
     "data": {
      "text/plain": [
       "13202"
      ]
     },
     "execution_count": 93,
     "metadata": {},
     "output_type": "execute_result"
    }
   ],
   "source": [
    "len(datafiles)"
   ]
  },
  {
   "cell_type": "markdown",
   "metadata": {},
   "source": [
    "### 2. Creation of Citation Network\n",
    "\n",
    "Here we want to collect all references for each document and create a network data using NetworkX."
   ]
  },
  {
   "cell_type": "code",
   "execution_count": 94,
   "metadata": {},
   "outputs": [],
   "source": [
    "id2bib = []\n",
    "for file in datafiles:\n",
    "    '''id and title of a single document'''\n",
    "    with open(file,'r')as f:\n",
    "        doc = json.load(f)\n",
    "    id = doc['paper_id']\n",
    "    title = doc['metadata']['title']\n",
    "    \n",
    "    '''collect bib-entries of a single document'''\n",
    "    bibEntries = []\n",
    "    for key,value in doc['bib_entries'].items():\n",
    "        refid = key\n",
    "        title = value['title']\n",
    "        year = value['year']\n",
    "        venue = value['venue']\n",
    "        try:\n",
    "            DOI = value['other_ids']['DOI'][0]\n",
    "        except:\n",
    "            DOI = 'NA'\n",
    "        \n",
    "        bibEntries.append({\"refid\": refid,\\\n",
    "                      \"title\":title,\\\n",
    "                      \"year\": year,\\\n",
    "                      \"venue\":venue,\\\n",
    "                      \"DOI\": DOI})\n",
    "    id2bib.append({\"id\": id, \"bib\": bibEntries,\"title\": title})"
   ]
  },
  {
   "cell_type": "code",
   "execution_count": 95,
   "metadata": {},
   "outputs": [],
   "source": [
    "import networkx as nx\n",
    "\n",
    "G = nx.Graph()\n",
    "for item in id2bib:\n",
    "    G.add_node(item['id'],title = item['title'])\n",
    "    for ref in item['bib']:\n",
    "        G.add_node(ref['DOI'], title = ref['title'], year = ref['year'], venue = ref['venue'])\n",
    "        G.add_edge(item['id'], ref['DOI'], value = ref['refid'])  "
   ]
  },
  {
   "cell_type": "code",
   "execution_count": 96,
   "metadata": {},
   "outputs": [
    {
     "data": {
      "text/plain": [
       "155339"
      ]
     },
     "execution_count": 96,
     "metadata": {},
     "output_type": "execute_result"
    }
   ],
   "source": [
    "'''How many nodes are there in my network?'''\n",
    "#155339 nodes\n",
    "len(G.nodes())"
   ]
  },
  {
   "cell_type": "markdown",
   "metadata": {},
   "source": [
    "### Sample Network Visualization\n",
    "\n",
    "We can not create a network with 0.1 million nodes at least for visualization. For visualization purpose, we are selecting 200 publications and restricting the references whivh has 'virus' term in title."
   ]
  },
  {
   "cell_type": "code",
   "execution_count": 97,
   "metadata": {},
   "outputs": [],
   "source": [
    "import matplotlib.pyplot as plt\n",
    "import seaborn as sns\n",
    "sns.set()"
   ]
  },
  {
   "cell_type": "code",
   "execution_count": 98,
   "metadata": {},
   "outputs": [],
   "source": [
    "Gs = nx.Graph()\n",
    "for item in id2bib[0:200]:\n",
    "    for ref in item['bib']:\n",
    "        if ref['title'].find('virus'):\n",
    "            Gs.add_node(item['id'])\n",
    "            Gs.add_node(ref['DOI'])\n",
    "            Gs.add_edge(item['id'], ref['DOI'])  "
   ]
  },
  {
   "cell_type": "code",
   "execution_count": null,
   "metadata": {},
   "outputs": [],
   "source": [
    "plt.figure(figsize = [12,10]) \n",
    "pos = nx.spring_layout(Gs) \n",
    "nx.draw(Gs, with_labels=False, node_size = 1, node_color = 'lightblue') \n",
    "plt.savefig('cite.png')"
   ]
  },
  {
   "cell_type": "markdown",
   "metadata": {},
   "source": [
    "### 3.1 Network Analysis"
   ]
  },
  {
   "cell_type": "code",
   "execution_count": null,
   "metadata": {},
   "outputs": [],
   "source": [
    "Ga = nx.Graph()\n",
    "for item in id2bib[0:10]:\n",
    "    Ga.add_node(item['id'],title = item['title'])\n",
    "    for ref in item['bib']:\n",
    "        Ga.add_node(ref['DOI'], title = ref['title'], year = ref['year'], venue = ref['venue'])\n",
    "        Ga.add_edge(item['id'], ref['DOI'], value = ref['refid'])  "
   ]
  },
  {
   "cell_type": "markdown",
   "metadata": {},
   "source": [
    "#### Q: What are the data content in network node?"
   ]
  },
  {
   "cell_type": "code",
   "execution_count": null,
   "metadata": {},
   "outputs": [],
   "source": [
    "for item in Ga.nodes().data():\n",
    "    print(item)"
   ]
  },
  {
   "cell_type": "markdown",
   "metadata": {},
   "source": [
    "#### Q: Can we find the document which cites maximum references for 'virus'?"
   ]
  },
  {
   "cell_type": "code",
   "execution_count": null,
   "metadata": {},
   "outputs": [],
   "source": [
    "'''Yes we can measure the degree centrality and select the node which has maximum centrality'''\n",
    "DegreeCentrality = nx.degree_centrality(Ga)\n",
    "ID = max(DegreeCentrality)\n",
    "ID, DegreeCentrality[ID]"
   ]
  },
  {
   "cell_type": "code",
   "execution_count": null,
   "metadata": {},
   "outputs": [],
   "source": [
    "'''the node title which has maximum paper citer on virus'''\n",
    "Ga.nodes[ID]"
   ]
  },
  {
   "cell_type": "code",
   "execution_count": null,
   "metadata": {},
   "outputs": [],
   "source": [
    "'''the titles of the cited paper'''\n",
    "for item in Ga.neighbors(ID):\n",
    "    print(Ga.nodes[item])"
   ]
  },
  {
   "cell_type": "markdown",
   "metadata": {},
   "source": [
    "#### Q : Find the temporal profile of virus related publication using citation network"
   ]
  },
  {
   "cell_type": "markdown",
   "metadata": {},
   "source": [
    "We are bringing update soon....\n"
   ]
  },
  {
   "cell_type": "code",
   "execution_count": null,
   "metadata": {},
   "outputs": [],
   "source": []
  }
 ],
 "metadata": {
  "kernelspec": {
   "display_name": "Python 3",
   "language": "python",
   "name": "python3"
  },
  "language_info": {
   "codemirror_mode": {
    "name": "ipython",
    "version": 3
   },
   "file_extension": ".py",
   "mimetype": "text/x-python",
   "name": "python",
   "nbconvert_exporter": "python",
   "pygments_lexer": "ipython3",
   "version": "3.7.1"
  }
 },
 "nbformat": 4,
 "nbformat_minor": 4
}
